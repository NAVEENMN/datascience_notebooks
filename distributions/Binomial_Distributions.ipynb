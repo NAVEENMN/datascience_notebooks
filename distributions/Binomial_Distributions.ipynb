{
 "cells": [
  {
   "cell_type": "markdown",
   "metadata": {},
   "source": [
    "# Binomial Distribution\n",
    "\n",
    "In probability theory and statistics, the binomial distribution with parameters n and p is the discrete probability distribution of the number of successes (preferred outcomes) in a sequence of n independent experiments, each asking a yes–no question, and each with its own Boolean-valued outcome: success (with probability p) or failure (with probability q = 1 − p). A single success/failure experiment is also called a Bernoulli trial, and a sequence of outcomes is called a Bernoulli process; for a single trial, i.e., n = 1, the binomial distribution is a Bernoulli distribution. The binomial distribution is the basis for the popular binomial test of statistical significance."
   ]
  },
  {
   "cell_type": "markdown",
   "metadata": {},
   "source": [
    "## Bernoulli trial\n",
    "\n",
    "Lets say you have a fair coin and you toss it, the act of tossing an seeing the result as $Heads$ or $Tails$ is considered a bernoulli trial. Lets say you toss the coin 4 times then we say its a bernoulli process with $n=4$ trails. Also we said we are considering a fair coin which means the chances of getting $Heads$ or $Tails$ is equally likely. Let's capture this coin fairness as $p$. $p=0.5$ represents both $Heads$ or $Tails$ have 50% chance of occurrence. If $p=0.2$ then we say $Heads$ has 20% chance of occurrence and $Tails$ has $1-p$ ie 0.8 or 80% chance of occurrence.\n",
    "\n",
    "We represent all of this programatically as follows."
   ]
  },
  {
   "cell_type": "code",
   "execution_count": 1,
   "metadata": {},
   "outputs": [],
   "source": [
    "import pandas as pd\n",
    "import random\n",
    "import seaborn as sns\n",
    "import matplotlib.pyplot as plt\n",
    "import math\n",
    "\n",
    "bernoulli_trial = lambda p: random.choices(['H', 'T'], weights=[p, 1-p])"
   ]
  },
  {
   "cell_type": "markdown",
   "metadata": {},
   "source": [
    "In this article, I will call a Bernoulli process (the process of tossing a coin n times) as an experiment as its easy to get the idea around."
   ]
  },
  {
   "cell_type": "code",
   "execution_count": 2,
   "metadata": {},
   "outputs": [],
   "source": [
    "def run_a_bernoulli_experiment(N=4, p=0.5):\n",
    "    data = {}\n",
    "    for n in range(1, N+1):\n",
    "        result = bernoulli_trial(p=0.5)\n",
    "        data[f't_{n}'] = result\n",
    "    return pd.DataFrame(data)\n",
    "\n",
    "results = run_a_bernoulli_experiment(N=4, p=0.5)\n"
   ]
  },
  {
   "cell_type": "markdown",
   "metadata": {},
   "source": [
    "What we did above is that we conducted one bernoulli expriment with  𝑁=4  trials. In simple english, we tossed a coin 4 times. Let's see the results."
   ]
  },
  {
   "cell_type": "code",
   "execution_count": 3,
   "metadata": {},
   "outputs": [
    {
     "name": "stdout",
     "output_type": "stream",
     "text": [
      "  t_1 t_2 t_3 t_4\n",
      "0   T   T   T   T\n"
     ]
    }
   ],
   "source": [
    "print(results)"
   ]
  },
  {
   "cell_type": "markdown",
   "metadata": {},
   "source": [
    "Now, Let's ask a question, if I run a bernoulli trial with $N=4$ or $N=5$ or $N=6$ and so on, what are the odds of getting all $Heads$ or what are the odds of getting two $Heads$ and three $Tails$, what are the odds of getting three $Heads$ and foure $Tails$, well you get the idea.\n",
    "\n",
    "<b>\n",
    "In genral If I run a bernoulli experiment with $N$ trials, what are the odds of seeing $k$ $Heads$ and $N-K$ $Tails$?\n",
    "</b>\n",
    "\n",
    "\n",
    "To purse an answer for this question, Let's run five bernoulli experiments."
   ]
  },
  {
   "cell_type": "code",
   "execution_count": 4,
   "metadata": {},
   "outputs": [
    {
     "name": "stdout",
     "output_type": "stream",
     "text": [
      "  t_1 t_2 t_3 t_4\n",
      "0   T   T   T   T\n",
      "1   T   H   T   H\n",
      "2   T   T   H   T\n",
      "3   T   T   T   T\n",
      "4   H   H   T   H\n",
      "5   H   T   H   H\n"
     ]
    }
   ],
   "source": [
    "num_exp = 5\n",
    "outcomes = []\n",
    "for i in range(0, num_exp):\n",
    "    outcomes.append(run_a_bernoulli_experiment(N=4, p=0.5))\n",
    "res = results.append(outcomes, ignore_index=True)\n",
    "print(res)"
   ]
  },
  {
   "cell_type": "markdown",
   "metadata": {},
   "source": [
    "We can see at each trail the number of $Heads$ and $Tails$ keep changing and this is conditioned on the fairness of coin $p$ if the coin was biased to $Heads$ ie. $p > (1-p)$ then we would have seen more $Heads$ count than tails. Lets repeat the same expriment with an unfair coin and also lets count how many $Heads$ and $Tails$ we get."
   ]
  },
  {
   "cell_type": "code",
   "execution_count": 5,
   "metadata": {},
   "outputs": [],
   "source": [
    "bernoulli_trial = lambda p: random.choices(['H', 'T'], weights=[p, 1-p])\n",
    "\n",
    "def run_a_bernoulli_experiment(n=5, p=0.5):\n",
    "    data = {}\n",
    "    count = {'H': 0, 'T': 0}\n",
    "    for trial in range(1, n+1):\n",
    "        result = bernoulli_trial(p=0.5)\n",
    "        count[result[0]] += 1\n",
    "        data[f't_{trial}'] = result\n",
    "    data[f'H_count'] = count['H']\n",
    "    data[f'T_count'] = count['T']\n",
    "    return pd.DataFrame(data)\n",
    "\n",
    "def run_bernoulli_experiments(num_of_exp=1, n=5, p=0.5):\n",
    "    results = None\n",
    "    outcomes = []\n",
    "    for i in range(0, num_of_exp):\n",
    "        if i == 0:\n",
    "            results = run_a_bernoulli_experiment(n=5, p=0.5)\n",
    "        else:\n",
    "            outcomes.append(run_a_bernoulli_experiment(n=5, p=0.5))\n",
    "    if outcomes:\n",
    "        results.append(outcomes, ignore_index=True)\n",
    "    return results"
   ]
  },
  {
   "cell_type": "code",
   "execution_count": 6,
   "metadata": {},
   "outputs": [
    {
     "name": "stdout",
     "output_type": "stream",
     "text": [
      "  t_1 t_2 t_3 t_4 t_5  H_count  T_count\n",
      "0   H   H   H   T   T        3        2\n"
     ]
    }
   ],
   "source": [
    "outcomes = run_bernoulli_experiments(num_of_exp=1, n=5, p=0.5)\n",
    "print(outcomes)"
   ]
  },
  {
   "cell_type": "markdown",
   "metadata": {},
   "source": [
    "Now lets visit the original question back, If I run a bernoulli trial with $N=5$ what are the odds of getting all $4 Heads$ and $ 1Tails$? To answer this, I will list all possible scenerios the outcomes can be. If $N=5$, then we can have $0 Heads$, $5 Tails$ as an outcome, or $1 Heads$, $4 Tails$ as an outcome or $2 Heads$, $3 Tails$ or.. $5 Heads$, $0 Tails$\n",
    "\n",
    "| id | Hcount | Tcount | TOTAL N = 5 | Combinations ${}^{5}C_{Hcount}$\n",
    "| --- | --- | --- | --- | --- |\n",
    "| id_0 | 0 | 5 | 5 | ${}^{5}C_{0}$ = 1\n",
    "| id_1 | 1 | 4 | 5 | ${}^{5}C_{1}$ = 5\n",
    "| id_2 | 2 | 3 | 5 | ${}^{5}C_{2}$ = 10\n",
    "| id_3 | 3 | 2 | 5 | ${}^{5}C_{3}$ = 10\n",
    "| id_4 | 4 | 1 | 5 | ${}^{5}C_{4}$ = 5\n",
    "| id_5 | 5 | 0 | 5 | ${}^{5}C_{5}$ = 1\n",
    "\n",
    "out of all the above outcomes we are interested in the id_4 ie. $4 Heads$ and $ 1Tails$ and there are only 5 ways it can occor. Here are all the outcomes for the case 4 heads and 1 tails.\n",
    "\n",
    "| Tails 1| Tails 2| Tails 3| Tails 4| Tails 5|\n",
    "| --- | --- | --- | --- | --- |\n",
    "| H | H | H | H | T |\n",
    "| H | H | H | T | H |\n",
    "| H | H | T | H | H |\n",
    "| H | T | H | H | H |\n",
    "| T | H | H | H | H |\n",
    "\n",
    "Note all the above tables are independent of the coin's bias. Now, if I say that the coin has probablitity of giving head as a result of 0.8 then we can re write the above the table as this.\n",
    "\n",
    "| Tails 1| Tails 2| Tails 3| Tails 4| Tails 5| Probablity of this sequence of event\n",
    "| --- | --- | --- | --- | --- | --- |\n",
    "| 0.8 | 0.8 | 0.8 | 0.8 | 0.2 | 0.8192 |\n",
    "| 0.8 | 0.8 | 0.8 | 0.2 | 0.8 | 0.8192 |\n",
    "| 0.8 | 0.8 | 0.2 | 0.8 | 0.8 | 0.8192 |\n",
    "| 0.8 | 0.2 | 0.8 | 0.8 | 0.8 | 0.8192 |\n",
    "| 0.2 | 0.8 | 0.8 | 0.8 | 0.8 | 0.8192 |\n",
    "\n",
    "Or, we can re write the above table with a formula\n",
    "\n",
    "| Tails 1| Tails 2| Tails 3| Tails 4| Tails 5| $p^k$ x $q^{n-k}$|\n",
    "| --- | --- | --- | --- | --- | --- |\n",
    "| 0.8 | 0.8 | 0.8 | 0.8 | 0.2 | 0.8192 |\n",
    "| 0.8 | 0.8 | 0.8 | 0.2 | 0.8 | 0.8192 |\n",
    "| 0.8 | 0.8 | 0.2 | 0.8 | 0.8 | 0.8192 |\n",
    "| 0.8 | 0.2 | 0.8 | 0.8 | 0.8 | 0.8192 |\n",
    "| 0.2 | 0.8 | 0.8 | 0.8 | 0.8 | 0.8192 |\n",
    "\n",
    "\n",
    "Now we can combine this with our original table\n",
    "\n",
    "| id | Hcount | Tcount | TOTAL N = 5 | Combinations| ${}^{5}C_{k}$ x $p^k$ x $q^{n-k}$|\n",
    "| --- | --- | --- | --- | --- | --- |\n",
    "| id_0 | 0 | 5 | 5 | ${}^{5}C_{0}$ = 1 | 0.00032|\n",
    "| id_1 | 1 | 4 | 5 | ${}^{5}C_{1}$ = 5 | 0.064|\n",
    "| id_2 | 2 | 3 | 5 | ${}^{5}C_{2}$ = 10 | 0.0512|\n",
    "| id_3 | 3 | 2 | 5 | ${}^{5}C_{3}$ = 10 | 0.2048|\n",
    "| id_4 | 4 | 1 | 5 | ${}^{5}C_{4}$ = 5 | 0.4092|\n",
    "| id_5 | 5 | 0 | 5 | ${}^{5}C_{5}$ = 1 | 0.32768|"
   ]
  },
  {
   "cell_type": "markdown",
   "metadata": {},
   "source": [
    "We will run the run_bernoulli_experiments as we did above and lets fill this table the actual outcomes from experiment."
   ]
  },
  {
   "cell_type": "code",
   "execution_count": 7,
   "metadata": {},
   "outputs": [
    {
     "data": {
      "image/png": "[encoded data removed]",
      "text/plain": [
       "<Figure size 1440x432 with 2 Axes>"
      ]
     },
     "metadata": {
      "needs_background": "light"
     },
     "output_type": "display_data"
    }
   ],
   "source": [
    "def nCr(n,r):\n",
    "    f = math.factorial\n",
    "    return f(n) / f(r) / f(n-r)\n",
    "\n",
    "class BernoulliDistribution:\n",
    "    def __init__(self, n=4):\n",
    "        self.n = n\n",
    "        self.num_of_exp = 0\n",
    "        self.p = 0\n",
    "    \n",
    "    def run_a_bernoulli_experiment(self, p=0.5):\n",
    "        bernoulli_trial = lambda p: random.choices(['H', 'T'], weights=[p, 1-p])\n",
    "        \n",
    "        data = {}\n",
    "        count = {'H': 0, 'T': 0}\n",
    "        for trial in range(0, self.n):\n",
    "            result = bernoulli_trial(p=0.5)\n",
    "            count[result[0]] += 1\n",
    "            data[f't_{trial+1}'] = result\n",
    "        data[f'H_count'] = count['H']\n",
    "        data[f'T_count'] = count['T']\n",
    "        data[f'n'] = count['H'] + count['T']\n",
    "        data['outcome'] = f\"{count['H']}H,{count['T']}T\"\n",
    "        \n",
    "        return pd.DataFrame(data)\n",
    "    \n",
    "    def get_outcomes_count(self, outcomes):\n",
    "        counts = {}\n",
    "        # Initialize count distribution\n",
    "        for i in range(0, self.n+1):\n",
    "            counts[f'{i}H, {self.n-i}T'] = 0\n",
    "            \n",
    "        # count distribution\n",
    "        for i in range(len(outcomes)):\n",
    "            counts[f'{outcomes.iloc[i].H_count}H, {outcomes.iloc[i].T_count}T'] += 1\n",
    "        \n",
    "        _outcomes = []\n",
    "        _counts = []\n",
    "        _event_probablity = []\n",
    "        _probablities = []\n",
    "        _cp = []\n",
    "        _ncr = []\n",
    "        head_count = 0\n",
    "        tail_count = self.n\n",
    "        for key, value in counts.items():\n",
    "            _outcomes.append(key)\n",
    "            _counts.append(value)\n",
    "            _event_probablity.append(value/self.num_of_exp)\n",
    "            binomial_prob = nCr(self.n, head_count) * (self.p ** head_count) * ((1-self.p) ** tail_count)\n",
    "            #binomial_prob = binomial_prob / math.pow(2, self.n)\n",
    "            _probablities.append(binomial_prob)\n",
    "            _cp.append(nCr(self.n, head_count)/math.pow(2, self.n))\n",
    "            _ncr.append(nCr(self.n, head_count))\n",
    "            head_count += 1\n",
    "            tail_count = self.n - head_count\n",
    "        res = {'outcomes': _outcomes, \n",
    "               'counts': _counts,\n",
    "               'counts/total_exp': _event_probablity,\n",
    "               'nCr': _ncr,\n",
    "               'nCr/2^n': _cp,\n",
    "               'prob': _probablities}\n",
    "        return pd.DataFrame(res)\n",
    "    \n",
    "    def plot_distribution(self, outcomes):\n",
    "        # sns.histplot(outcomes, x='outcome')\n",
    "        distribution = bd.get_outcomes_count(outcomes)\n",
    "        fig, axes = plt.subplots(1, 2, figsize=(20, 6), sharey=False, sharex=False)\n",
    "        axes[0].set_title('Event occurrence')\n",
    "        axes[1].set_title('Distribution')\n",
    "        sns.barplot(x=\"outcomes\", y=\"counts\", data=distribution, ax=axes[0])\n",
    "        sns.lineplot(x=\"outcomes\", y=\"prob\", data=distribution, ax=axes[1])\n",
    "        return distribution\n",
    "        \n",
    "    \n",
    "    def run_bernoulli_experiments(self, num_of_exp=1, p=0.5):\n",
    "        results = None\n",
    "        self.num_of_exp = num_of_exp\n",
    "        self.p = p\n",
    "        outcomes = []\n",
    "        for i in range(0, num_of_exp):\n",
    "            # print(f'Running experiment {i} with {self.n} trails')\n",
    "            if i == 0:\n",
    "                results = self.run_a_bernoulli_experiment(p)\n",
    "            else:\n",
    "                outcomes.append(self.run_a_bernoulli_experiment(p))\n",
    "        return results.append(outcomes, ignore_index=True)\n",
    "        \n",
    "bd = BernoulliDistribution(n=5)\n",
    "outcomes = bd.run_bernoulli_experiments(num_of_exp=100, p=0.7)\n",
    "distribution = bd.plot_distribution(outcomes)"
   ]
  },
  {
   "cell_type": "code",
   "execution_count": 8,
   "metadata": {},
   "outputs": [
    {
     "name": "stdout",
     "output_type": "stream",
     "text": [
      "  outcomes  counts  counts/total_exp   nCr  nCr/2^n     prob\n",
      "0   0H, 5T       4              0.04   1.0  0.03125  0.00243\n",
      "1   1H, 4T      14              0.14   5.0  0.15625  0.02835\n",
      "2   2H, 3T      35              0.35  10.0  0.31250  0.13230\n",
      "3   3H, 2T      27              0.27  10.0  0.31250  0.30870\n",
      "4   4H, 1T      15              0.15   5.0  0.15625  0.36015\n",
      "5   5H, 0T       5              0.05   1.0  0.03125  0.16807\n"
     ]
    }
   ],
   "source": [
    "print(distribution)"
   ]
  },
  {
   "cell_type": "markdown",
   "metadata": {},
   "source": [
    "Lets re run the above experiments with larger trails so we get a nice neat curves."
   ]
  },
  {
   "cell_type": "code",
   "execution_count": 9,
   "metadata": {},
   "outputs": [
    {
     "data": {
      "image/png": "[encoded data removed]",
      "text/plain": [
       "<Figure size 1440x432 with 2 Axes>"
      ]
     },
     "metadata": {
      "needs_background": "light"
     },
     "output_type": "display_data"
    }
   ],
   "source": [
    "bd = BernoulliDistribution(n=20)\n",
    "outcomes = bd.run_bernoulli_experiments(num_of_exp=100, p=0.8)\n",
    "distribution = bd.plot_distribution(outcomes)"
   ]
  },
  {
   "cell_type": "code",
   "execution_count": 10,
   "metadata": {},
   "outputs": [
    {
     "name": "stdout",
     "output_type": "stream",
     "text": [
      "    outcomes  counts  counts/total_exp       nCr       nCr/2^n          prob\n",
      "0    0H, 20T       0              0.00       1.0  9.536743e-07  1.048576e-14\n",
      "1    1H, 19T       0              0.00      20.0  1.907349e-05  8.388608e-13\n",
      "2    2H, 18T       0              0.00     190.0  1.811981e-04  3.187671e-11\n",
      "3    3H, 17T       0              0.00    1140.0  1.087189e-03  7.650410e-10\n",
      "4    4H, 16T       0              0.00    4845.0  4.620552e-03  1.300570e-08\n",
      "5    5H, 15T       0              0.00   15504.0  1.478577e-02  1.664729e-07\n",
      "6    6H, 14T       2              0.02   38760.0  3.696442e-02  1.664729e-06\n",
      "7    7H, 13T       8              0.08   77520.0  7.392883e-02  1.331783e-05\n",
      "8    8H, 12T      19              0.19  125970.0  1.201344e-01  8.656592e-05\n",
      "9    9H, 11T      11              0.11  167960.0  1.601791e-01  4.616849e-04\n",
      "10  10H, 10T      18              0.18  184756.0  1.761971e-01  2.031414e-03\n",
      "11   11H, 9T      17              0.17  167960.0  1.601791e-01  7.386959e-03\n",
      "12   12H, 8T      12              0.12  125970.0  1.201344e-01  2.216088e-02\n",
      "13   13H, 7T       9              0.09   77520.0  7.392883e-02  5.454985e-02\n",
      "14   14H, 6T       1              0.01   38760.0  3.696442e-02  1.090997e-01\n",
      "15   15H, 5T       2              0.02   15504.0  1.478577e-02  1.745595e-01\n",
      "16   16H, 4T       0              0.00    4845.0  4.620552e-03  2.181994e-01\n",
      "17   17H, 3T       1              0.01    1140.0  1.087189e-03  2.053641e-01\n",
      "18   18H, 2T       0              0.00     190.0  1.811981e-04  1.369094e-01\n",
      "19   19H, 1T       0              0.00      20.0  1.907349e-05  5.764608e-02\n",
      "20   20H, 0T       0              0.00       1.0  9.536743e-07  1.152922e-02\n"
     ]
    }
   ],
   "source": [
    "print(distribution)"
   ]
  },
  {
   "cell_type": "markdown",
   "metadata": {},
   "source": [
    "We can see that nCr captures number of ways a sequence can happen and $2^n$ canptures all the possible sequences and experimentally counts/total_exp is almost same as $nCr/2^n$. "
   ]
  },
  {
   "cell_type": "markdown",
   "metadata": {},
   "source": [
    "Finally lets verify if the sums add up to ones."
   ]
  },
  {
   "cell_type": "code",
   "execution_count": 11,
   "metadata": {},
   "outputs": [
    {
     "name": "stdout",
     "output_type": "stream",
     "text": [
      "1.0\n",
      "1.0\n",
      "1.0\n"
     ]
    }
   ],
   "source": [
    "print(sum(distribution['counts/total_exp']))\n",
    "print(sum(distribution['nCr/2^n']))\n",
    "print(sum(distribution.prob))"
   ]
  },
  {
   "cell_type": "markdown",
   "metadata": {},
   "source": [
    "# Conclusion \n",
    "\n",
    "\n"
   ]
  },
  {
   "cell_type": "markdown",
   "metadata": {},
   "source": [
    "So, for a sequence of $n$ trials where each trail has a probablity of $p$ for a preferred occurrence. We can write that the probablity of seeing $k$ preffered events under binomial distribution as \n",
    "\n",
    "\\begin{equation*}\n",
    "{}^{n}C_k * p^k * (1-p)^{n-k}\n",
    "\\end{equation*}"
   ]
  }
 ],
 "metadata": {
  "kernelspec": {
   "display_name": "Python 3",
   "language": "python",
   "name": "python3"
  },
  "language_info": {
   "codemirror_mode": {
    "name": "ipython",
    "version": 3
   },
   "file_extension": ".py",
   "mimetype": "text/x-python",
   "name": "python",
   "nbconvert_exporter": "python",
   "pygments_lexer": "ipython3",
   "version": "3.7.4"
  }
 },
 "nbformat": 4,
 "nbformat_minor": 4
}
